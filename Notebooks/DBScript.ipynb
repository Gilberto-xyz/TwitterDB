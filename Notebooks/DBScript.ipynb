{
 "cells": [
  {
   "attachments": {},
   "cell_type": "markdown",
   "metadata": {},
   "source": [
    "### Script\n",
    "Subir datos de un archivo csv a una base de datos en MySQL"
   ]
  },
  {
   "cell_type": "code",
   "execution_count": 1,
   "metadata": {},
   "outputs": [],
   "source": [
    "import mysql.connector"
   ]
  },
  {
   "cell_type": "code",
   "execution_count": 2,
   "metadata": {},
   "outputs": [
    {
     "name": "stdout",
     "output_type": "stream",
     "text": [
      "<mysql.connector.connection_cext.CMySQLConnection object at 0x0000015401ACD0A0>\n"
     ]
    }
   ],
   "source": [
    "# Conexion a la base de datos MySQL\n",
    "connect_mydb = mysql.connector.connect(host='localhost',\n",
    "                               user='root',\n",
    "                               database='twitter_db',\n",
    "                               port='3306')\n",
    "# Verificar la conexion\n",
    "print(connect_mydb)\n"
   ]
  },
  {
   "cell_type": "code",
   "execution_count": 3,
   "metadata": {},
   "outputs": [],
   "source": [
    "# Crear un cursor para ejecutar las consultas\n",
    "cursor = connect_mydb.cursor()"
   ]
  },
  {
   "cell_type": "code",
   "execution_count": 6,
   "metadata": {},
   "outputs": [],
   "source": [
    "# Crear una tabla en la base de datos MySQL donde se almacenaran los tweets del primer dataset \n",
    "cursor.execute('CREATE TABLE tweets_otan (id INT AUTO_INCREMENT PRIMARY KEY, Date VARCHAR(255), Username VARCHAR(255), Tweet VARCHAR(255), Polarity VARCHAR(255), Subjectivity VARCHAR(255))')"
   ]
  },
  {
   "cell_type": "code",
   "execution_count": 7,
   "metadata": {},
   "outputs": [
    {
     "data": {
      "text/html": [
       "<div>\n",
       "<style scoped>\n",
       "    .dataframe tbody tr th:only-of-type {\n",
       "        vertical-align: middle;\n",
       "    }\n",
       "\n",
       "    .dataframe tbody tr th {\n",
       "        vertical-align: top;\n",
       "    }\n",
       "\n",
       "    .dataframe thead th {\n",
       "        text-align: right;\n",
       "    }\n",
       "</style>\n",
       "<table border=\"1\" class=\"dataframe\">\n",
       "  <thead>\n",
       "    <tr style=\"text-align: right;\">\n",
       "      <th></th>\n",
       "      <th>Date</th>\n",
       "      <th>User</th>\n",
       "      <th>Tweet</th>\n",
       "      <th>Polarity</th>\n",
       "      <th>Subjectivity</th>\n",
       "    </tr>\n",
       "  </thead>\n",
       "  <tbody>\n",
       "    <tr>\n",
       "      <th>0</th>\n",
       "      <td>2023-03-15 16:51:39+00:00</td>\n",
       "      <td>EleanorAquitai5</td>\n",
       "      <td>@LaCatholicState @21WIRE Zelensky had his oppo...</td>\n",
       "      <td>-0.050000</td>\n",
       "      <td>0.400000</td>\n",
       "    </tr>\n",
       "    <tr>\n",
       "      <th>1</th>\n",
       "      <td>2023-03-15 16:51:24+00:00</td>\n",
       "      <td>vuthehung_1995</td>\n",
       "      <td>🇷🇺🇺🇦...The work of the Ivanovo paratroopers of...</td>\n",
       "      <td>-0.033333</td>\n",
       "      <td>0.116667</td>\n",
       "    </tr>\n",
       "    <tr>\n",
       "      <th>2</th>\n",
       "      <td>2023-03-15 16:51:19+00:00</td>\n",
       "      <td>Ornimegalonyxz</td>\n",
       "      <td>Ukrainian soldiers cut lard on the Koran, they...</td>\n",
       "      <td>-0.250000</td>\n",
       "      <td>0.800000</td>\n",
       "    </tr>\n",
       "  </tbody>\n",
       "</table>\n",
       "</div>"
      ],
      "text/plain": [
       "                        Date             User  \\\n",
       "0  2023-03-15 16:51:39+00:00  EleanorAquitai5   \n",
       "1  2023-03-15 16:51:24+00:00   vuthehung_1995   \n",
       "2  2023-03-15 16:51:19+00:00   Ornimegalonyxz   \n",
       "\n",
       "                                               Tweet  Polarity  Subjectivity  \n",
       "0  @LaCatholicState @21WIRE Zelensky had his oppo... -0.050000      0.400000  \n",
       "1  🇷🇺🇺🇦...The work of the Ivanovo paratroopers of... -0.033333      0.116667  \n",
       "2  Ukrainian soldiers cut lard on the Koran, they... -0.250000      0.800000  "
      ]
     },
     "execution_count": 7,
     "metadata": {},
     "output_type": "execute_result"
    }
   ],
   "source": [
    "# Leer el archivo csv con los tweets del primer dataset\n",
    "import pandas as pd\n",
    "\n",
    "dataframe = pd.read_csv('Otan.csv')\n",
    "\n",
    "# Imprimimos los primeros 3 tweets\n",
    "dataframe.head(3)"
   ]
  },
  {
   "cell_type": "code",
   "execution_count": 8,
   "metadata": {},
   "outputs": [
    {
     "data": {
      "text/html": [
       "<div>\n",
       "<style scoped>\n",
       "    .dataframe tbody tr th:only-of-type {\n",
       "        vertical-align: middle;\n",
       "    }\n",
       "\n",
       "    .dataframe tbody tr th {\n",
       "        vertical-align: top;\n",
       "    }\n",
       "\n",
       "    .dataframe thead th {\n",
       "        text-align: right;\n",
       "    }\n",
       "</style>\n",
       "<table border=\"1\" class=\"dataframe\">\n",
       "  <thead>\n",
       "    <tr style=\"text-align: right;\">\n",
       "      <th></th>\n",
       "      <th>Date</th>\n",
       "      <th>User</th>\n",
       "      <th>Tweet</th>\n",
       "      <th>Polarity</th>\n",
       "      <th>Subjectivity</th>\n",
       "    </tr>\n",
       "  </thead>\n",
       "  <tbody>\n",
       "    <tr>\n",
       "      <th>0</th>\n",
       "      <td>2023-03-15 16:51:39+00:00</td>\n",
       "      <td>EleanorAquitai5</td>\n",
       "      <td>@LaCatholicState @21WIRE Zelensky had his oppo...</td>\n",
       "      <td>-0.050000</td>\n",
       "      <td>0.400000</td>\n",
       "    </tr>\n",
       "    <tr>\n",
       "      <th>1</th>\n",
       "      <td>2023-03-15 16:51:24+00:00</td>\n",
       "      <td>vuthehung_1995</td>\n",
       "      <td>🇷🇺🇺🇦...The work of the Ivanovo paratroopers of...</td>\n",
       "      <td>-0.033333</td>\n",
       "      <td>0.116667</td>\n",
       "    </tr>\n",
       "    <tr>\n",
       "      <th>2</th>\n",
       "      <td>2023-03-15 16:51:19+00:00</td>\n",
       "      <td>Ornimegalonyxz</td>\n",
       "      <td>Ukrainian soldiers cut lard on the Koran, they...</td>\n",
       "      <td>-0.250000</td>\n",
       "      <td>0.800000</td>\n",
       "    </tr>\n",
       "    <tr>\n",
       "      <th>3</th>\n",
       "      <td>2023-03-15 16:51:18+00:00</td>\n",
       "      <td>Escherspace1</td>\n",
       "      <td>@talkrealopinion Hillary slmost president havi...</td>\n",
       "      <td>0.250000</td>\n",
       "      <td>1.000000</td>\n",
       "    </tr>\n",
       "    <tr>\n",
       "      <th>4</th>\n",
       "      <td>2023-03-15 16:51:05+00:00</td>\n",
       "      <td>VictoryDay_Hope</td>\n",
       "      <td>🇸🇪🇺🇦We have to decide what weapons Ukraine rea...</td>\n",
       "      <td>0.187500</td>\n",
       "      <td>0.475000</td>\n",
       "    </tr>\n",
       "    <tr>\n",
       "      <th>5</th>\n",
       "      <td>2023-03-15 16:51:04+00:00</td>\n",
       "      <td>shehzadyounis</td>\n",
       "      <td>Zelensky vows to reinforce defense of key Donb...</td>\n",
       "      <td>0.000000</td>\n",
       "      <td>1.000000</td>\n",
       "    </tr>\n",
       "    <tr>\n",
       "      <th>6</th>\n",
       "      <td>2023-03-15 16:50:44+00:00</td>\n",
       "      <td>DanaHes70442619</td>\n",
       "      <td>@robreiner Zelensky has choked off all opposit...</td>\n",
       "      <td>-0.050000</td>\n",
       "      <td>0.650000</td>\n",
       "    </tr>\n",
       "    <tr>\n",
       "      <th>7</th>\n",
       "      <td>2023-03-15 16:50:43+00:00</td>\n",
       "      <td>CarlosPoniwass</td>\n",
       "      <td>@ricwe123 OTAN ist so Bigst then litlle Russian!</td>\n",
       "      <td>0.000000</td>\n",
       "      <td>0.000000</td>\n",
       "    </tr>\n",
       "    <tr>\n",
       "      <th>8</th>\n",
       "      <td>2023-03-15 16:50:36+00:00</td>\n",
       "      <td>ms_clueless1</td>\n",
       "      <td>@GeoffYoung4KY Zelensky wants Crimea back. He'...</td>\n",
       "      <td>0.006250</td>\n",
       "      <td>0.250000</td>\n",
       "    </tr>\n",
       "    <tr>\n",
       "      <th>9</th>\n",
       "      <td>2023-03-15 16:50:33+00:00</td>\n",
       "      <td>9ironvic</td>\n",
       "      <td>@robreiner Impressive expression of support fo...</td>\n",
       "      <td>0.406250</td>\n",
       "      <td>0.750000</td>\n",
       "    </tr>\n",
       "  </tbody>\n",
       "</table>\n",
       "</div>"
      ],
      "text/plain": [
       "                        Date             User  \\\n",
       "0  2023-03-15 16:51:39+00:00  EleanorAquitai5   \n",
       "1  2023-03-15 16:51:24+00:00   vuthehung_1995   \n",
       "2  2023-03-15 16:51:19+00:00   Ornimegalonyxz   \n",
       "3  2023-03-15 16:51:18+00:00     Escherspace1   \n",
       "4  2023-03-15 16:51:05+00:00  VictoryDay_Hope   \n",
       "5  2023-03-15 16:51:04+00:00    shehzadyounis   \n",
       "6  2023-03-15 16:50:44+00:00  DanaHes70442619   \n",
       "7  2023-03-15 16:50:43+00:00   CarlosPoniwass   \n",
       "8  2023-03-15 16:50:36+00:00     ms_clueless1   \n",
       "9  2023-03-15 16:50:33+00:00         9ironvic   \n",
       "\n",
       "                                               Tweet  Polarity  Subjectivity  \n",
       "0  @LaCatholicState @21WIRE Zelensky had his oppo... -0.050000      0.400000  \n",
       "1  🇷🇺🇺🇦...The work of the Ivanovo paratroopers of... -0.033333      0.116667  \n",
       "2  Ukrainian soldiers cut lard on the Koran, they... -0.250000      0.800000  \n",
       "3  @talkrealopinion Hillary slmost president havi...  0.250000      1.000000  \n",
       "4  🇸🇪🇺🇦We have to decide what weapons Ukraine rea...  0.187500      0.475000  \n",
       "5  Zelensky vows to reinforce defense of key Donb...  0.000000      1.000000  \n",
       "6  @robreiner Zelensky has choked off all opposit... -0.050000      0.650000  \n",
       "7   @ricwe123 OTAN ist so Bigst then litlle Russian!  0.000000      0.000000  \n",
       "8  @GeoffYoung4KY Zelensky wants Crimea back. He'...  0.006250      0.250000  \n",
       "9  @robreiner Impressive expression of support fo...  0.406250      0.750000  "
      ]
     },
     "execution_count": 8,
     "metadata": {},
     "output_type": "execute_result"
    }
   ],
   "source": [
    "# Del dataframe solo tomamos 10 filas para testear el script\n",
    "dataframe = dataframe.iloc[0:10, :]\n",
    "dataframe"
   ]
  },
  {
   "cell_type": "code",
   "execution_count": 9,
   "metadata": {},
   "outputs": [
    {
     "name": "stdout",
     "output_type": "stream",
     "text": [
      "Record inserted 0\n",
      "Record inserted 1\n",
      "Record inserted 2\n",
      "Record inserted 3\n",
      "Record inserted 4\n",
      "Record inserted 5\n",
      "Record inserted 6\n",
      "Record inserted 7\n",
      "Record inserted 8\n",
      "Record inserted 9\n"
     ]
    }
   ],
   "source": [
    "# Insertar valores del dataframe en la tabla creada en la base de datos MySQL \n",
    "for i, row in dataframe.iterrows():\n",
    "    sql = \"INSERT INTO tweets_otan (Date, Username, Tweet, Polarity, Subjectivity) VALUES (%s, %s, %s, %s, %s)\"\n",
    "    cursor.execute(sql, tuple(row))\n",
    "    print(\"Record inserted\", i)\n",
    "    connect_mydb.commit()"
   ]
  },
  {
   "cell_type": "code",
   "execution_count": null,
   "metadata": {},
   "outputs": [],
   "source": []
  }
 ],
 "metadata": {
  "kernelspec": {
   "display_name": "base",
   "language": "python",
   "name": "python3"
  },
  "language_info": {
   "codemirror_mode": {
    "name": "ipython",
    "version": 3
   },
   "file_extension": ".py",
   "mimetype": "text/x-python",
   "name": "python",
   "nbconvert_exporter": "python",
   "pygments_lexer": "ipython3",
   "version": "3.9.13"
  },
  "orig_nbformat": 4
 },
 "nbformat": 4,
 "nbformat_minor": 2
}
