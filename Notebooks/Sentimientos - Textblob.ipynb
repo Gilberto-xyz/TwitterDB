{
 "cells": [
  {
   "cell_type": "code",
   "execution_count": 5,
   "metadata": {},
   "outputs": [],
   "source": [
    "# Importamos la libreria\n",
    "from textblob import TextBlob"
   ]
  },
  {
   "cell_type": "code",
   "execution_count": 8,
   "metadata": {},
   "outputs": [
    {
     "name": "stdout",
     "output_type": "stream",
     "text": [
      "Este codigo es bonito y funciona muy bien  ->  This code is pretty and works very well\n",
      "Este codigo es feo, malo y no funciona muy bien  ->  This code is ugly, bad and it doesn't work very well\n"
     ]
    }
   ],
   "source": [
    "# Texto inicial con el que vamos a trabajar\n",
    "texto_cool = TextBlob(\"Este codigo es bonito y funciona muy bien\")\n",
    "texto_rudo = TextBlob(\"Este codigo es feo, malo y no funciona muy bien\")\n",
    "\n",
    "# Agregamos un apartado de traduccion de texto para que pueda analizarlo en español\n",
    "print(texto_cool, \" -> \",texto_cool.translate(from_lang=\"es\", to=\"en\"))\n",
    "print(texto_rudo, \" -> \",texto_rudo.translate(from_lang=\"es\", to=\"en\"))\n",
    "\n"
   ]
  },
  {
   "cell_type": "code",
   "execution_count": 9,
   "metadata": {},
   "outputs": [
    {
     "name": "stdout",
     "output_type": "stream",
     "text": [
      "Sentimiento del texto inicial:  Sentiment(polarity=0.0, subjectivity=0.0)\n",
      "Sentimiento del texto traducido:  Sentiment(polarity=0.225, subjectivity=0.65)\n"
     ]
    }
   ],
   "source": [
    "# Analizamos el primer texto original y traducido\n",
    "print(\"Sentimiento del texto inicial: \", texto_cool.sentiment)\n",
    "print(\"Sentimiento del texto traducido: \", texto_cool.translate(from_lang=\"es\", to=\"en\").sentiment)\n"
   ]
  },
  {
   "cell_type": "code",
   "execution_count": 10,
   "metadata": {},
   "outputs": [
    {
     "name": "stdout",
     "output_type": "stream",
     "text": [
      "Sentimiento del texto inicial:  Sentiment(polarity=0.0, subjectivity=0.0)\n",
      "Sentimiento del texto traducido:  Sentiment(polarity=-0.39999999999999997, subjectivity=0.6555555555555556)\n"
     ]
    }
   ],
   "source": [
    "# Analizamos el segundo texto original y traducido\n",
    "print(\"Sentimiento del texto inicial: \", texto_rudo.sentiment)\n",
    "print(\"Sentimiento del texto traducido: \", texto_rudo.translate(from_lang=\"es\", to=\"en\").sentiment)\n"
   ]
  }
 ],
 "metadata": {
  "kernelspec": {
   "display_name": "base",
   "language": "python",
   "name": "python3"
  },
  "language_info": {
   "codemirror_mode": {
    "name": "ipython",
    "version": 3
   },
   "file_extension": ".py",
   "mimetype": "text/x-python",
   "name": "python",
   "nbconvert_exporter": "python",
   "pygments_lexer": "ipython3",
   "version": "3.9.13"
  },
  "orig_nbformat": 4
 },
 "nbformat": 4,
 "nbformat_minor": 2
}
